{
 "cells": [
  {
   "cell_type": "code",
   "execution_count": 11,
   "id": "4ca6cf84",
   "metadata": {},
   "outputs": [],
   "source": [
    "import pandas as pd\n",
    "import numpy as np\n",
    "import glob\n",
    "pd.set_option('display.max_columns',200)"
   ]
  },
  {
   "cell_type": "code",
   "execution_count": 20,
   "id": "2c174667",
   "metadata": {},
   "outputs": [],
   "source": [
    "# Reading the files into glob generator\n",
    "path = r'D:\\MyPortfolio\\Predictive Maintenance Of Hydraulics System\\archive'\n",
    "filenames = glob.glob(path + \"/*.txt\")\n",
    "# Creating empty dictinary\n",
    "list1 = []\n",
    "# Reading data into dataframe and storing into dictionary\n",
    "for file in filenames:\n",
    "    name = str(file).split('\\\\')[-1].split('.')[0]    \n",
    "    temp_df_\"{}\".format(name) = pd.read_csv(file, sep='\\t',header=None)\n",
    "    list1.append()"
   ]
  },
  {
   "cell_type": "markdown",
   "id": "3d568800",
   "metadata": {},
   "source": [
    "## Data Reading & understanding"
   ]
  },
  {
   "cell_type": "code",
   "execution_count": 22,
   "id": "8ec37778",
   "metadata": {},
   "outputs": [],
   "source": [
    "a=[]\n",
    "for i in [df1[i] = i.mean(axis=1)    ]:\n",
    "    PS=np.genfromtxt(path + \"/\"+i+\".txt\")\n",
    "    a.append(PS)\n",
    "ps1,ps2,ps3,ps4,ps5,ps6 = a"
   ]
  },
  {
   "cell_type": "code",
   "execution_count": 24,
   "id": "4a967c2e",
   "metadata": {},
   "outputs": [
    {
     "data": {
      "text/plain": [
       "array([[151.47, 151.45, 151.52, ..., 151.1 , 151.21, 151.19],\n",
       "       [151.11, 151.12, 151.16, ..., 150.79, 150.8 , 150.86],\n",
       "       [150.81, 150.79, 150.84, ..., 150.43, 150.54, 150.62],\n",
       "       ...,\n",
       "       [151.73, 151.78, 151.84, ..., 151.73, 151.73, 151.83],\n",
       "       [151.77, 151.77, 151.75, ..., 151.68, 151.71, 151.78],\n",
       "       [151.83, 151.78, 151.77, ..., 151.73, 151.71, 151.7 ]])"
      ]
     },
     "execution_count": 24,
     "metadata": {},
     "output_type": "execute_result"
    }
   ],
   "source": [
    "ps1"
   ]
  },
  {
   "cell_type": "code",
   "execution_count": 25,
   "id": "91d64341",
   "metadata": {},
   "outputs": [],
   "source": [
    "# Creating columns for pressure\n",
    "PS1 = ps1.mean(axis=1)\n",
    "PS2 = ps2.mean(axis=1)\n",
    "PS3 = ps3.mean(axis=1)\n",
    "PS4 = ps4.mean(axis=1)\n",
    "PS5 = ps5.mean(axis=1)\n",
    "PS6 = ps6.mean(axis=1)"
   ]
  },
  {
   "cell_type": "code",
   "execution_count": 26,
   "id": "2bde6509",
   "metadata": {},
   "outputs": [],
   "source": [
    "# Creating dataframe\n",
    "df = pd.DataFrame()\n",
    "df['PS1'] = PS1\n",
    "df['PS2'] = PS2\n",
    "df['PS3'] = PS3\n",
    "df['PS4'] = PS4\n",
    "df['PS5'] = PS5\n",
    "df['PS6'] = PS6"
   ]
  },
  {
   "cell_type": "code",
   "execution_count": 27,
   "id": "919fb2ee",
   "metadata": {},
   "outputs": [
    {
     "data": {
      "text/html": [
       "<div>\n",
       "<style scoped>\n",
       "    .dataframe tbody tr th:only-of-type {\n",
       "        vertical-align: middle;\n",
       "    }\n",
       "\n",
       "    .dataframe tbody tr th {\n",
       "        vertical-align: top;\n",
       "    }\n",
       "\n",
       "    .dataframe thead th {\n",
       "        text-align: right;\n",
       "    }\n",
       "</style>\n",
       "<table border=\"1\" class=\"dataframe\">\n",
       "  <thead>\n",
       "    <tr style=\"text-align: right;\">\n",
       "      <th></th>\n",
       "      <th>PS1</th>\n",
       "      <th>PS2</th>\n",
       "      <th>PS3</th>\n",
       "      <th>PS4</th>\n",
       "      <th>PS5</th>\n",
       "      <th>PS6</th>\n",
       "    </tr>\n",
       "  </thead>\n",
       "  <tbody>\n",
       "    <tr>\n",
       "      <th>0</th>\n",
       "      <td>160.673492</td>\n",
       "      <td>109.466914</td>\n",
       "      <td>1.991475</td>\n",
       "      <td>0.0</td>\n",
       "      <td>9.842169</td>\n",
       "      <td>9.728098</td>\n",
       "    </tr>\n",
       "    <tr>\n",
       "      <th>1</th>\n",
       "      <td>160.603320</td>\n",
       "      <td>109.354890</td>\n",
       "      <td>1.976234</td>\n",
       "      <td>0.0</td>\n",
       "      <td>9.635142</td>\n",
       "      <td>9.529488</td>\n",
       "    </tr>\n",
       "    <tr>\n",
       "      <th>2</th>\n",
       "      <td>160.347720</td>\n",
       "      <td>109.158845</td>\n",
       "      <td>1.972224</td>\n",
       "      <td>0.0</td>\n",
       "      <td>9.530548</td>\n",
       "      <td>9.427949</td>\n",
       "    </tr>\n",
       "    <tr>\n",
       "      <th>3</th>\n",
       "      <td>160.188088</td>\n",
       "      <td>109.064807</td>\n",
       "      <td>1.946576</td>\n",
       "      <td>0.0</td>\n",
       "      <td>9.438827</td>\n",
       "      <td>9.337429</td>\n",
       "    </tr>\n",
       "    <tr>\n",
       "      <th>4</th>\n",
       "      <td>160.000472</td>\n",
       "      <td>108.931434</td>\n",
       "      <td>1.922707</td>\n",
       "      <td>0.0</td>\n",
       "      <td>9.358762</td>\n",
       "      <td>9.260636</td>\n",
       "    </tr>\n",
       "  </tbody>\n",
       "</table>\n",
       "</div>"
      ],
      "text/plain": [
       "          PS1         PS2       PS3  PS4       PS5       PS6\n",
       "0  160.673492  109.466914  1.991475  0.0  9.842169  9.728098\n",
       "1  160.603320  109.354890  1.976234  0.0  9.635142  9.529488\n",
       "2  160.347720  109.158845  1.972224  0.0  9.530548  9.427949\n",
       "3  160.188088  109.064807  1.946576  0.0  9.438827  9.337429\n",
       "4  160.000472  108.931434  1.922707  0.0  9.358762  9.260636"
      ]
     },
     "execution_count": 27,
     "metadata": {},
     "output_type": "execute_result"
    }
   ],
   "source": [
    "df.head()"
   ]
  },
  {
   "cell_type": "code",
   "execution_count": 28,
   "id": "d86d3ed9",
   "metadata": {},
   "outputs": [
    {
     "data": {
      "text/plain": [
       "(2205, 6)"
      ]
     },
     "execution_count": 28,
     "metadata": {},
     "output_type": "execute_result"
    }
   ],
   "source": [
    "df.shape"
   ]
  },
  {
   "cell_type": "code",
   "execution_count": 30,
   "id": "3540f181",
   "metadata": {},
   "outputs": [],
   "source": [
    "eps1=np.genfromtxt(path + \"/EPS1.txt\")\n",
    "EPS1 = eps1.mean(axis=1)\n",
    "# Store the array in df\n",
    "df['EPS1'] = EPS1"
   ]
  },
  {
   "cell_type": "code",
   "execution_count": 31,
   "id": "ccf82e63",
   "metadata": {},
   "outputs": [
    {
     "data": {
      "text/plain": [
       "(2205, 7)"
      ]
     },
     "execution_count": 31,
     "metadata": {},
     "output_type": "execute_result"
    }
   ],
   "source": [
    "df.shape"
   ]
  },
  {
   "cell_type": "code",
   "execution_count": 40,
   "id": "2c19b27b",
   "metadata": {},
   "outputs": [],
   "source": [
    "a=[]\n",
    "for i in [\"FS1\",\"FS2\"]:\n",
    "    FS=np.genfromtxt(path + \"/\"+i+\".txt\")\n",
    "    a.append(FS)\n",
    "fs1,fs2=a"
   ]
  },
  {
   "cell_type": "code",
   "execution_count": null,
   "id": "0b7f83cf",
   "metadata": {},
   "outputs": [],
   "source": []
  }
 ],
 "metadata": {
  "kernelspec": {
   "display_name": "Python 3 (ipykernel)",
   "language": "python",
   "name": "python3"
  },
  "language_info": {
   "codemirror_mode": {
    "name": "ipython",
    "version": 3
   },
   "file_extension": ".py",
   "mimetype": "text/x-python",
   "name": "python",
   "nbconvert_exporter": "python",
   "pygments_lexer": "ipython3",
   "version": "3.9.7"
  }
 },
 "nbformat": 4,
 "nbformat_minor": 5
}
